{
 "cells": [
  {
   "cell_type": "markdown",
   "metadata": {},
   "source": [
    "# Deep Deterministic Policy Gradients (DDPG)\n",
    "---\n",
    "In this notebook, we train DDPG with OpenAI Gym's Pendulum-v0 environment.\n",
    "\n",
    "### 1. Import the Necessary Packages"
   ]
  },
  {
   "cell_type": "code",
   "execution_count": 1,
   "metadata": {},
   "outputs": [],
   "source": [
    "import gym\n",
    "import random\n",
    "import torch\n",
    "import numpy as np\n",
    "from collections import deque\n",
    "import matplotlib.pyplot as plt\n",
    "%matplotlib inline"
   ]
  },
  {
   "cell_type": "markdown",
   "metadata": {},
   "source": [
    "### 2. Instantiate the Environment and Agent"
   ]
  },
  {
   "cell_type": "code",
   "execution_count": 2,
   "metadata": {},
   "outputs": [
    {
     "name": "stdout",
     "output_type": "stream",
     "text": [
      "\u001b[31mtensorflow 1.7.1 has requirement numpy>=1.13.3, but you'll have numpy 1.12.1 which is incompatible.\u001b[0m\r\n",
      "\u001b[31mipython 6.5.0 has requirement prompt-toolkit<2.0.0,>=1.0.15, but you'll have prompt-toolkit 3.0.8 which is incompatible.\u001b[0m\r\n"
     ]
    }
   ],
   "source": [
    "!pip install -q ../python/"
   ]
  },
  {
   "cell_type": "code",
   "execution_count": 3,
   "metadata": {},
   "outputs": [],
   "source": [
    "class Reacher:\n",
    "    def __init__(self, path):\n",
    "        from unityagents import UnityEnvironment\n",
    "        env = UnityEnvironment(file_name=path)\n",
    "        brain_name = env.brain_names[0]\n",
    "        brain = env.brains[brain_name]\n",
    "        env_info = env.reset(train_mode=True)[brain_name]\n",
    "        num_agents = len(env_info.agents)\n",
    "        print('Number of agents:', num_agents)\n",
    "        action_size = brain.vector_action_space_size\n",
    "        print('Size of each action:', action_size)\n",
    "        states = env_info.vector_observations\n",
    "        state_size = states.shape[1]\n",
    "        print('There are {} agents. Each observes a state with length: {}'.format(states.shape[0], state_size))\n",
    "        print('The state for the first agent looks like:', states[0])\n",
    "        \n",
    "        self.env = env\n",
    "        self.brain_name = brain_name\n",
    "        \n",
    "    def __del__(self):\n",
    "        self.env.close()\n",
    "    \n",
    "    def reset(self):\n",
    "        env_info = self.env.reset(train_mode=True)[self.brain_name]\n",
    "        return env_info.vector_observations\n",
    "    \n",
    "    def step(self, actions):\n",
    "        env_info = self.env.step(actions)[self.brain_name]\n",
    "        next_states = env_info.vector_observations\n",
    "        rewards = env_info.rewards\n",
    "        dones = env_info.local_done\n",
    "        return next_states, rewards, dones, env_info"
   ]
  },
  {
   "cell_type": "code",
   "execution_count": 6,
   "metadata": {},
   "outputs": [],
   "source": [
    "def ddpg(agent, env, n_episodes=1000, max_t=1000, window_size=100, is_20=False, ckpt_prefix='checkpoint',\n",
    "         reward_accum_steps=35):\n",
    "    discounts = np.expand_dims(0.99 ** np.arange(reward_accum_steps + 1), 1)\n",
    "    num_parallel = 20 if is_20 else 1\n",
    "    \n",
    "    scores_deque = deque(maxlen=window_size)\n",
    "    scores = []\n",
    "    for i_episode in range(1, n_episodes+1):\n",
    "        state = env.reset()\n",
    "        agent.reset()\n",
    "        score = np.zeros([num_parallel])\n",
    "        t = 0\n",
    "        while t < max_t:\n",
    "            # collect data\n",
    "            states = []\n",
    "            actions = []\n",
    "            rewards = []\n",
    "            next_states = []\n",
    "            dones = []\n",
    "            for _ in range(reward_accum_steps):\n",
    "                action = agent.act(state)\n",
    "                next_state, reward, done, _ = env.step(action)\n",
    "                score += reward\n",
    "                \n",
    "                states.append(state)  # [accum_steps, num_parallel, state_size]\n",
    "                actions.append(action)  # [accum_steps, num_parallel, action_size]\n",
    "                rewards.append(reward)  # [accum_steps, num_parallel]\n",
    "                next_states.append(next_state) # [accum_steps, num_parallel, state_size]\n",
    "                dones.append(done) # [accum_steps, num_parallel]\n",
    "                \n",
    "                state = next_state\n",
    "                t += 1\n",
    "\n",
    "            # calculate rewards\n",
    "            rewards = np.array(rewards, dtype=np.float32)\n",
    "            for accum_step_i in range(reward_accum_steps):\n",
    "                rewards[accum_step_i,:] = np.sum(rewards[accum_step_i:,:] * discounts[:-accum_step_i-1,:], 0)\n",
    "            \n",
    "            # agent step\n",
    "            for accum_step_i in range(reward_accum_steps):\n",
    "                for parallel_i in range(num_parallel):\n",
    "                    agent.step(states[accum_step_i][parallel_i],\n",
    "                               actions[accum_step_i][parallel_i],\n",
    "                               rewards[accum_step_i][parallel_i],\n",
    "                               next_states[accum_step_i][parallel_i],\n",
    "                               dones[accum_step_i][parallel_i])\n",
    "            \n",
    "        scores_deque.append(score)\n",
    "        scores.append(score)\n",
    "        cur_mean = np.mean(score)\n",
    "        moving_mean = np.mean(scores_deque)\n",
    "        print('\\rEpisode {}\\tAverage Score: {:.2f}\\tCur Score: {:.2f}'.format(i_episode, moving_mean, cur_mean))\n",
    "        torch.save(agent.actor_local.state_dict(), ckpt_prefix + '_actor.pth')\n",
    "        torch.save(agent.critic_local.state_dict(), ckpt_prefix + '_critic.pth')\n",
    "\n",
    "        if len(scores_deque) == window_size and moving_mean >= 30.:\n",
    "            print(\"Solved at episode {}!\".format(i_episode - window_size + 1))\n",
    "            \n",
    "    return scores"
   ]
  },
  {
   "cell_type": "code",
   "execution_count": 5,
   "metadata": {},
   "outputs": [],
   "source": [
    "def evaluate(env, agent):\n",
    "    state = env.reset()\n",
    "    score = None\n",
    "    for i in range(1000):\n",
    "        action = agent.act(state, add_noise=False)\n",
    "        state, reward, done, _ = env.step(action)\n",
    "        if score is None:\n",
    "            score = np.zeros(len(reward))\n",
    "        score += reward\n",
    "        if np.all(done):\n",
    "            break\n",
    "    return score"
   ]
  },
  {
   "cell_type": "markdown",
   "metadata": {},
   "source": [
    "### 3. Experiment in Reacher_One"
   ]
  },
  {
   "cell_type": "code",
   "execution_count": null,
   "metadata": {},
   "outputs": [],
   "source": [
    "env = Reacher('/data/Reacher_One_Linux_NoVis/Reacher_One_Linux_NoVis.x86_64')"
   ]
  },
  {
   "cell_type": "code",
   "execution_count": null,
   "metadata": {},
   "outputs": [],
   "source": [
    "import ddpg_agent\n",
    "from importlib import reload\n",
    "reload(ddpg_agent)\n",
    "agent = ddpg_agent.Agent(state_size=33, action_size=4, random_seed=2)"
   ]
  },
  {
   "cell_type": "code",
   "execution_count": null,
   "metadata": {},
   "outputs": [],
   "source": [
    "from workspace_utils import active_session\n",
    "\n",
    "with active_session():\n",
    "    scores = ddpg(agent, env, 1000)\n",
    "\n",
    "fig = plt.figure()\n",
    "ax = fig.add_subplot(111)\n",
    "plt.plot(np.arange(1, len(scores)+1), scores)\n",
    "plt.ylabel('Score')\n",
    "plt.xlabel('Episode #')\n",
    "plt.show()"
   ]
  },
  {
   "cell_type": "code",
   "execution_count": null,
   "metadata": {},
   "outputs": [],
   "source": [
    "agent.actor_local.load_state_dict(torch.load('checkpoint_actor.pth'))\n",
    "agent.critic_local.load_state_dict(torch.load('checkpoint_critic.pth'))\n",
    "score = evaluate(env, agent)\n",
    "print(score)"
   ]
  },
  {
   "cell_type": "markdown",
   "metadata": {},
   "source": [
    "### 4. Experiment in Reacher_20"
   ]
  },
  {
   "cell_type": "code",
   "execution_count": 7,
   "metadata": {},
   "outputs": [
    {
     "name": "stderr",
     "output_type": "stream",
     "text": [
      "INFO:unityagents:\n",
      "'Academy' started successfully!\n",
      "Unity Academy name: Academy\n",
      "        Number of Brains: 1\n",
      "        Number of External Brains : 1\n",
      "        Lesson number : 0\n",
      "        Reset Parameters :\n",
      "\t\tgoal_speed -> 1.0\n",
      "\t\tgoal_size -> 5.0\n",
      "Unity brain name: ReacherBrain\n",
      "        Number of Visual Observations (per agent): 0\n",
      "        Vector Observation space type: continuous\n",
      "        Vector Observation space size (per agent): 33\n",
      "        Number of stacked Vector Observation: 1\n",
      "        Vector Action space type: continuous\n",
      "        Vector Action space size (per agent): 4\n",
      "        Vector Action descriptions: , , , \n"
     ]
    },
    {
     "name": "stdout",
     "output_type": "stream",
     "text": [
      "Number of agents: 20\n",
      "Size of each action: 4\n",
      "There are 20 agents. Each observes a state with length: 33\n",
      "The state for the first agent looks like: [  0.00000000e+00  -4.00000000e+00   0.00000000e+00   1.00000000e+00\n",
      "  -0.00000000e+00  -0.00000000e+00  -4.37113883e-08   0.00000000e+00\n",
      "   0.00000000e+00   0.00000000e+00   0.00000000e+00   0.00000000e+00\n",
      "   0.00000000e+00   0.00000000e+00  -1.00000000e+01   0.00000000e+00\n",
      "   1.00000000e+00  -0.00000000e+00  -0.00000000e+00  -4.37113883e-08\n",
      "   0.00000000e+00   0.00000000e+00   0.00000000e+00   0.00000000e+00\n",
      "   0.00000000e+00   0.00000000e+00   5.75471878e+00  -1.00000000e+00\n",
      "   5.55726624e+00   0.00000000e+00   1.00000000e+00   0.00000000e+00\n",
      "  -1.68164849e-01]\n"
     ]
    }
   ],
   "source": [
    "env_20 = Reacher('/data/Reacher_Linux_NoVis/Reacher.x86_64')"
   ]
  },
  {
   "cell_type": "code",
   "execution_count": 8,
   "metadata": {},
   "outputs": [],
   "source": [
    "import ddpg_agent\n",
    "from importlib import reload\n",
    "reload(ddpg_agent)\n",
    "agent_20 = ddpg_agent.Agent(state_size=33, action_size=4, random_seed=2)"
   ]
  },
  {
   "cell_type": "code",
   "execution_count": null,
   "metadata": {},
   "outputs": [
    {
     "name": "stdout",
     "output_type": "stream",
     "text": [
      "Episode 1\tAverage Score: 0.12\tCur Score: 0.12: 0.00011599168647080669\n",
      "actor_loss: 0.007831086404621601, critic_loss: 9.249900176655501e-059\r"
     ]
    }
   ],
   "source": [
    "from workspace_utils import active_session\n",
    "\n",
    "with active_session():\n",
    "    scores = ddpg(agent_20, env_20, 1000, is_20=True, ckpt_prefix='checkpoint_20', reward_accum_steps=35)\n",
    "\n",
    "fig = plt.figure()\n",
    "ax = fig.add_subplot(111)\n",
    "plt.plot(np.arange(1, len(scores)+1), scores)\n",
    "plt.ylabel('Score')\n",
    "plt.xlabel('Episode #')\n",
    "plt.show()"
   ]
  },
  {
   "cell_type": "code",
   "execution_count": null,
   "metadata": {},
   "outputs": [],
   "source": [
    "agent_20.actor_local.load_state_dict(torch.load('checkpoint_20_actor.pth'))\n",
    "agent_20.critic_local.load_state_dict(torch.load('checkpoint_20_critic.pth'))\n",
    "score = evaluate(env_20, agent_20)\n",
    "print(score)\n",
    "print(np.mean(score))"
   ]
  },
  {
   "cell_type": "code",
   "execution_count": 6,
   "metadata": {},
   "outputs": [],
   "source": [
    "%cp checkpoint_20_actor.pth checkpoint_20_actor_23.pth\n",
    "%cp checkpoint_20_critic.pth checkpoint_20_critic_23.pth"
   ]
  }
 ],
 "metadata": {
  "kernelspec": {
   "display_name": "Python 3",
   "language": "python",
   "name": "python3"
  },
  "language_info": {
   "codemirror_mode": {
    "name": "ipython",
    "version": 3
   },
   "file_extension": ".py",
   "mimetype": "text/x-python",
   "name": "python",
   "nbconvert_exporter": "python",
   "pygments_lexer": "ipython3",
   "version": "3.6.3"
  }
 },
 "nbformat": 4,
 "nbformat_minor": 2
}
